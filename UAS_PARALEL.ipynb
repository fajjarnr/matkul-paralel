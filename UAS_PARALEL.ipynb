{
 "cells": [
  {
   "cell_type": "code",
   "execution_count": 1,
   "metadata": {},
   "outputs": [
    {
     "name": "stdout",
     "output_type": "stream",
     "text": [
      "daisy-1535532_960_720.jpg -- Berhasil Didownload\n",
      "sheep-2592305_960_720.jpg -- Berhasil Didownload\n",
      "\n",
      "Selesai Dalam Waktu 0.42645210000000056 Detik\n"
     ]
    }
   ],
   "source": [
    "import requests\n",
    "import time\n",
    "import concurrent.futures\n",
    "\n",
    "img_urls = ['https://cdn.pixabay.com/photo/2016/07/22/18/39/daisy-1535532_960_720.jpg',\n",
    "            'https://cdn.pixabay.com/photo/2017/08/06/13/00/sheep-2592305_960_720.jpg']\n",
    "\n",
    "def download_image(img_url):\n",
    "    img = requests.get(img_url).content\n",
    "    img_name = img_url.split('/')[9]\n",
    "    img_name = f'{img_name}'\n",
    "    with open(img_name, 'wb') as img_file:\n",
    "        img_file.write(img)\n",
    "        print(f'{img_name} -- Berhasil Didownload')\n",
    "\n",
    "t1 = time.perf_counter()\n",
    "\n",
    "with concurrent.futures.ThreadPoolExecutor(max_workers=1) as executor:\n",
    "    for url in img_urls:\n",
    "        executor.submit(download_image, url)\n",
    "        \n",
    "t2 = time.perf_counter()\n",
    "\n",
    "t_single = t2-t1\n",
    "\n",
    "print(f'\\nSelesai Dalam Waktu {t_single} Detik')"
   ]
  },
  {
   "cell_type": "code",
   "execution_count": 2,
   "metadata": {},
   "outputs": [
    {
     "name": "stdout",
     "output_type": "stream",
     "text": [
      "daisy-1535532_960_720.jpg -- Berhasil Didownload\n",
      "sheep-2592305_960_720.jpg -- Berhasil Didownload\n",
      "\n",
      "Selesai Dalam Waktu 0.22930634500000124 Detik\n"
     ]
    }
   ],
   "source": [
    "import requests\n",
    "import time\n",
    "import concurrent.futures\n",
    "\n",
    "img_urls = ['https://cdn.pixabay.com/photo/2016/07/22/18/39/daisy-1535532_960_720.jpg',\n",
    "            'https://cdn.pixabay.com/photo/2017/08/06/13/00/sheep-2592305_960_720.jpg']\n",
    "\n",
    "def download_image(img_url):\n",
    "    img = requests.get(img_url).content\n",
    "    img_name = img_url.split('/')[9]\n",
    "    img_name = f'{img_name}'\n",
    "    with open(img_name, 'wb') as img_file:\n",
    "        img_file.write(img)\n",
    "        print(f'{img_name} -- Berhasil Didownload')\n",
    "\n",
    "t1 = time.perf_counter()\n",
    "\n",
    "with concurrent.futures.ThreadPoolExecutor(max_workers=2) as executor:\n",
    "    for url in img_urls:\n",
    "        executor.submit(download_image, url)\n",
    "        \n",
    "t2 = time.perf_counter()\n",
    "\n",
    "t_multi = t2-t1\n",
    "\n",
    "print(f'\\nSelesai Dalam Waktu {t_multi} Detik')"
   ]
  },
  {
   "cell_type": "code",
   "execution_count": 3,
   "metadata": {},
   "outputs": [
    {
     "data": {
      "text/plain": [
       "0.1971457549999993"
      ]
     },
     "execution_count": 3,
     "metadata": {},
     "output_type": "execute_result"
    }
   ],
   "source": [
    "t_perbedaan = t_single - t_multi\n",
    "t_perbedaan"
   ]
  },
  {
   "cell_type": "code",
   "execution_count": null,
   "metadata": {},
   "outputs": [],
   "source": []
  }
 ],
 "metadata": {
  "kernelspec": {
   "display_name": "Python 3",
   "language": "python",
   "name": "python3"
  },
  "language_info": {
   "codemirror_mode": {
    "name": "ipython",
    "version": 3
   },
   "file_extension": ".py",
   "mimetype": "text/x-python",
   "name": "python",
   "nbconvert_exporter": "python",
   "pygments_lexer": "ipython3",
   "version": "3.7.7"
  }
 },
 "nbformat": 4,
 "nbformat_minor": 4
}
